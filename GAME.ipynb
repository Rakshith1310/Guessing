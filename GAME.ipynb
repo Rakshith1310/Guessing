{
 "cells": [
  {
   "cell_type": "code",
   "execution_count": null,
   "metadata": {},
   "outputs": [],
   "source": [
    "import random\n",
    "words=[\"cat\",\"bat\",\"fan\",\"love\",\"mad\",\"contribution\",\"umbrella\",\"\"]\n",
    "def play():\n",
    "    count=3\n",
    "    while count>=0:\n",
    "        rw=random.choice(words)\n",
    "        length=len(rw)\n",
    "        print(\"Word starts with {0} and ends with {1}\".format(rw[0],rw[-1]))\n",
    "        guess=input(\"Guess the {0} letter word: \".format(length))\n",
    "        if rw==guess.lower():\n",
    "            print(\"Great continue..\\n\")\n",
    "            if length>5:\n",
    "                print(\"U have won an extra life....\\n\")\n",
    "                count+=1\n",
    "        elif rw!=guess:\n",
    "            count-=1\n",
    "            print(\"Oops, you have {0} chances\\n\".format(count))\n",
    "        if count==0:\n",
    "            print(\"GAME ENDED\\nTHANK YOU\")\n",
    "            return\n",
    "play()"
   ]
  },
  {
   "cell_type": "code",
   "execution_count": null,
   "metadata": {},
   "outputs": [],
   "source": []
  }
 ],
 "metadata": {
  "kernelspec": {
   "display_name": "Python 3",
   "language": "python",
   "name": "python3"
  },
  "language_info": {
   "codemirror_mode": {
    "name": "ipython",
    "version": 3
   },
   "file_extension": ".py",
   "mimetype": "text/x-python",
   "name": "python",
   "nbconvert_exporter": "python",
   "pygments_lexer": "ipython3",
   "version": "3.7.6"
  }
 },
 "nbformat": 4,
 "nbformat_minor": 4
}
